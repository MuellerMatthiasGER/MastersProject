{
 "cells": [
  {
   "cell_type": "code",
   "execution_count": 1,
   "metadata": {},
   "outputs": [],
   "source": [
    "import numpy as np\n",
    "import re\n",
    "import scipy.stats as st\n",
    "import os"
   ]
  },
  {
   "cell_type": "code",
   "execution_count": 6,
   "metadata": {},
   "outputs": [],
   "source": [
    "log_path = \"log_safe/minigrid_green_blue_big_mask_extract-42-mask-linear_comb/230910-105443\"\n",
    "n_tasks = 5\n",
    "\n",
    "log_file_path = f\"{log_path}/train-log-{log_path.split('/')[-1]}.txt\"\n",
    "save_conf_file_path = f\"{log_path}/conf_data.csv\"\n",
    "save_sem_file_path = f\"{log_path}/sem_data.csv\"\n",
    "\n",
    "if os.path.exists(save_conf_file_path):\n",
    "    os.remove(save_conf_file_path)\n",
    "\n",
    "if os.path.exists(save_sem_file_path):\n",
    "    os.remove(save_sem_file_path)\n",
    "\n",
    "conf_data = np.zeros(n_tasks,)\n",
    "sem_data = np.zeros(n_tasks,)\n",
    "task_idx = 0\n",
    "\n",
    "with open(log_file_path, 'r') as file:\n",
    "    for line in file:\n",
    "        if '- [' in line:\n",
    "            pattern = r'\\[(.*?)\\]'\n",
    "            value_str = re.findall(pattern, line)[0]\n",
    "            values = np.array([float(val) for val in value_str.split(',')])\n",
    "            mean = np.mean(values)\n",
    "            sem = st.sem(values)\n",
    "            if mean > 0:\n",
    "                lower_bound, _ = st.t.interval(0.95, len(values)-1, loc=mean, scale=sem)\n",
    "                conf = mean - lower_bound\n",
    "                conf_data[task_idx] = conf\n",
    "                sem_data[task_idx] = sem\n",
    "            task_idx += 1\n",
    "        \n",
    "        if task_idx == n_tasks:\n",
    "            task_idx = 0\n",
    "            with open(save_conf_file_path, 'a') as conf_file:\n",
    "                np.savetxt(conf_file, conf_data.reshape(1, -1), delimiter=',', fmt='%.4f')\n",
    "            with open(save_sem_file_path, 'a') as sem_file:\n",
    "                np.savetxt(sem_file, sem_data.reshape(1, -1), delimiter=',', fmt='%.4f')"
   ]
  },
  {
   "cell_type": "code",
   "execution_count": 28,
   "metadata": {},
   "outputs": [],
   "source": []
  }
 ],
 "metadata": {
  "kernelspec": {
   "display_name": "Python 3",
   "language": "python",
   "name": "python3"
  },
  "language_info": {
   "codemirror_mode": {
    "name": "ipython",
    "version": 3
   },
   "file_extension": ".py",
   "mimetype": "text/x-python",
   "name": "python",
   "nbconvert_exporter": "python",
   "pygments_lexer": "ipython3",
   "version": "3.8.10"
  },
  "orig_nbformat": 4
 },
 "nbformat": 4,
 "nbformat_minor": 2
}
